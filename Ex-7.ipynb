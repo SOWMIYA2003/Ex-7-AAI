{
 "cells": [
  {
   "cell_type": "code",
   "execution_count": 1,
   "metadata": {},
   "outputs": [
    {
     "name": "stdout",
     "output_type": "stream",
     "text": [
      "Requirement already satisfied: nltk in c:\\users\\sowmi\\anaconda3\\lib\\site-packages (3.8.1)Note: you may need to restart the kernel to use updated packages.\n",
      "\n",
      "Requirement already satisfied: click in c:\\users\\sowmi\\appdata\\roaming\\python\\python311\\site-packages (from nltk) (8.1.7)\n",
      "Requirement already satisfied: joblib in c:\\users\\sowmi\\anaconda3\\lib\\site-packages (from nltk) (1.2.0)\n",
      "Requirement already satisfied: regex>=2021.8.3 in c:\\users\\sowmi\\anaconda3\\lib\\site-packages (from nltk) (2022.7.9)\n",
      "Requirement already satisfied: tqdm in c:\\users\\sowmi\\anaconda3\\lib\\site-packages (from nltk) (4.65.0)\n",
      "Requirement already satisfied: colorama in c:\\users\\sowmi\\appdata\\roaming\\python\\python311\\site-packages (from click->nltk) (0.4.6)\n"
     ]
    }
   ],
   "source": [
    "pip install nltk"
   ]
  },
  {
   "cell_type": "code",
   "execution_count": 2,
   "metadata": {},
   "outputs": [
    {
     "name": "stderr",
     "output_type": "stream",
     "text": [
      "[nltk_data] Downloading package punkt to\n",
      "[nltk_data]     C:\\Users\\sowmi\\AppData\\Roaming\\nltk_data...\n",
      "[nltk_data]   Package punkt is already up-to-date!\n",
      "[nltk_data] Downloading package stopwords to\n",
      "[nltk_data]     C:\\Users\\sowmi\\AppData\\Roaming\\nltk_data...\n",
      "[nltk_data]   Package stopwords is already up-to-date!\n"
     ]
    },
    {
     "data": {
      "text/plain": [
       "True"
      ]
     },
     "execution_count": 2,
     "metadata": {},
     "output_type": "execute_result"
    }
   ],
   "source": [
    "import nltk\n",
    "from nltk.corpus import stopwords\n",
    "from nltk.tokenize import word_tokenize, sent_tokenize\n",
    "from nltk.stem import PorterStemmer\n",
    "nltk.download('punkt')\n",
    "nltk.download('stopwords')\n"
   ]
  },
  {
   "cell_type": "code",
   "execution_count": 3,
   "metadata": {},
   "outputs": [],
   "source": [
    "def preprocess_text(text):\n",
    "  words = word_tokenize (text)\n",
    "  # Remove stopwords and punctuation\n",
    "  stop_words = set(stopwords.words('english'))\n",
    "  filtered_words = [word for word in words if word.lower() not in stop_words and word.isalnum()]\n",
    "  # Stemming\n",
    "  stemmer = PorterStemmer()\n",
    "  stemmed_words = [stemmer.stem (word) for word in filtered_words]\n",
    "  return stemmed_words"
   ]
  },
  {
   "cell_type": "code",
   "execution_count": 4,
   "metadata": {},
   "outputs": [],
   "source": [
    "def generate_summary (text, num_sentences=3):\n",
    "  sentences = sent_tokenize(text)\n",
    "  preprocessed_text = preprocess_text(text)\n",
    "  # Calculate the frequency of each word\n",
    "  word_frequencies = nltk. FreqDist(preprocessed_text)\n",
    "  # Calculate the score for each sentence based on word frequency\n",
    "  sentence_scores = {}\n",
    "  for sentence in sentences:\n",
    "    for word, freq in word_frequencies.items():\n",
    "      if word in sentence.lower():\n",
    "        if sentence not in sentence_scores:\n",
    "          sentence_scores [sentence] = freq\n",
    "        else:\n",
    "          sentence_scores [sentence] += freq\n",
    "  # Select top N sentences with highest scores\n",
    "  summary_sentences = sorted(sentence_scores, key=sentence_scores.get, reverse=True) [:num_sentences]\n",
    "  return''.join(summary_sentences)\n"
   ]
  },
  {
   "cell_type": "code",
   "execution_count": 5,
   "metadata": {},
   "outputs": [
    {
     "name": "stdout",
     "output_type": "stream",
     "text": [
      "Original Text:\n",
      "\n",
      "    Natural language processing (NLP) is the ability of \n",
      "    a computer program to understand human language as it's \n",
      "    spoken and written -- referred to as natural language. \n",
      "    It's a component of artificial intelligence (AI).\n",
      "    \n",
      "    NLP has existed for more than 50 years and has roots in \n",
      "    the field of linguistics. It has a variety of real-world \n",
      "    applications in numerous fields, including medical research, \n",
      "    search engines and business intelligence.\n",
      "      \n",
      "\n",
      "Summary:\n",
      "\n",
      "    Natural language processing (NLP) is the ability of \n",
      "    a computer program to understand human language as it's \n",
      "    spoken and written -- referred to as natural language.It has a variety of real-world \n",
      "    applications in numerous fields, including medical research, \n",
      "    search engines and business intelligence.NLP has existed for more than 50 years and has roots in \n",
      "    the field of linguistics.\n"
     ]
    }
   ],
   "source": [
    "if __name__ == \"__main__\":\n",
    "    input_text =  \"\"\"\n",
    "    Natural language processing (NLP) is the ability of \n",
    "    a computer program to understand human language as it's \n",
    "    spoken and written -- referred to as natural language. \n",
    "    It's a component of artificial intelligence (AI).\n",
    "    \n",
    "    NLP has existed for more than 50 years and has roots in \n",
    "    the field of linguistics. It has a variety of real-world \n",
    "    applications in numerous fields, including medical research, \n",
    "    search engines and business intelligence.\n",
    "      \"\"\"\n",
    "    summary = generate_summary(input_text)\n",
    "    print(\"Original Text:\")\n",
    "    print(input_text)\n",
    "    print(\"\\nSummary:\")\n",
    "    print(summary)\n"
   ]
  },
  {
   "cell_type": "code",
   "execution_count": null,
   "metadata": {},
   "outputs": [],
   "source": []
  }
 ],
 "metadata": {
  "kernelspec": {
   "display_name": "Python 3 (ipykernel)",
   "language": "python",
   "name": "python3"
  },
  "language_info": {
   "codemirror_mode": {
    "name": "ipython",
    "version": 3
   },
   "file_extension": ".py",
   "mimetype": "text/x-python",
   "name": "python",
   "nbconvert_exporter": "python",
   "pygments_lexer": "ipython3",
   "version": "3.11.5"
  }
 },
 "nbformat": 4,
 "nbformat_minor": 4
}
